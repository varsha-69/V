{
  "cells": [
    {
      "cell_type": "markdown",
      "metadata": {
        "id": "view-in-github",
        "colab_type": "text"
      },
      "source": [
        "<a href=\"https://colab.research.google.com/github/varsha-69/V/blob/main/Assignments/Assignment_01.ipynb\" target=\"_parent\"><img src=\"https://colab.research.google.com/assets/colab-badge.svg\" alt=\"Open In Colab\"/></a>"
      ]
    },
    {
      "cell_type": "markdown",
      "id": "07a1f870-f905-4703-8b65-12e83172133a",
      "metadata": {
        "id": "07a1f870-f905-4703-8b65-12e83172133a"
      },
      "source": [
        "## Basic Python Fundamentals"
      ]
    },
    {
      "cell_type": "code",
      "execution_count": null,
      "id": "502e1d87-2fdd-4588-a330-2af21268215e",
      "metadata": {
        "colab": {
          "base_uri": "https://localhost:8080/"
        },
        "id": "502e1d87-2fdd-4588-a330-2af21268215e",
        "outputId": "6ee62985-240d-4a65-a5b7-9dd1f4add7dc"
      },
      "outputs": [
        {
          "data": {
            "text/plain": [
              "int"
            ]
          },
          "execution_count": 2,
          "metadata": {},
          "output_type": "execute_result"
        }
      ],
      "source": [
        "# Write a Python program to declare a variable x with the value 10 and print its type.\n",
        "x=10\n",
        "type(x)"
      ]
    },
    {
      "cell_type": "code",
      "execution_count": null,
      "id": "dae77579-4b7d-4f06-96e0-7bdfe43860d7",
      "metadata": {
        "colab": {
          "base_uri": "https://localhost:8080/"
        },
        "id": "dae77579-4b7d-4f06-96e0-7bdfe43860d7",
        "outputId": "daad8c88-d6a0-4116-85ca-516064070077"
      },
      "outputs": [
        {
          "name": "stdout",
          "output_type": "stream",
          "text": [
            "30\n"
          ]
        }
      ],
      "source": [
        "# Write a Python program to declare three variables a = 5, b = 10, and c = 15, and print their sum.\n",
        "a, b, c=5, 10, 15\n",
        "print(a+b+c)"
      ]
    },
    {
      "cell_type": "code",
      "execution_count": null,
      "id": "c32867b2-a615-426a-89ae-bd2793b6a4dc",
      "metadata": {
        "colab": {
          "base_uri": "https://localhost:8080/"
        },
        "id": "c32867b2-a615-426a-89ae-bd2793b6a4dc",
        "outputId": "fdc2e00b-d57d-488d-bb5e-6864e051c362"
      },
      "outputs": [
        {
          "name": "stdout",
          "output_type": "stream",
          "text": [
            "<class 'int'>\n",
            "<class 'str'>\n",
            "<class 'float'>\n",
            "<class 'list'>\n",
            "<class 'dict'>\n"
          ]
        }
      ],
      "source": [
        "# Write a Python program that checks and prints the type of a variable (e.g., int, float, str, etc.).\n",
        "x=5\n",
        "name=\"varsha\"\n",
        "temperature=6.2\n",
        "subjects=[\"maths\",\"english\",\"science\",\"social\"]\n",
        "marks={\n",
        "    \"maths\":25,\n",
        "    \"english\":30,\n",
        "    \"science\":35,\n",
        "    \"social\":40,\n",
        "}\n",
        "print(type(x))\n",
        "print(type(name))\n",
        "print(type(temperature))\n",
        "print(type(subjects))\n",
        "print(type(marks))\n",
        "\n"
      ]
    },
    {
      "cell_type": "code",
      "execution_count": null,
      "id": "8b233e41-9d44-4869-9ead-afb3ff1c0b67",
      "metadata": {
        "colab": {
          "base_uri": "https://localhost:8080/"
        },
        "id": "8b233e41-9d44-4869-9ead-afb3ff1c0b67",
        "outputId": "b2b96dd0-123a-4813-b098-d23838969b37"
      },
      "outputs": [
        {
          "name": "stdout",
          "output_type": "stream",
          "text": [
            "value of x=5\n",
            "value of y=2\n",
            "Addition 7\n",
            "Subtrationtion 3\n",
            "Multiplication 10\n",
            "Division= 2.5\n"
          ]
        }
      ],
      "source": [
        "# Write a Python program to perform addition, subtraction, multiplication, and division on two numbers. (User input is required for the numbers)\n",
        "x=int(input(\"value of x=\"))\n",
        "y=int(input(\"value of y=\"))\n",
        "print(\"Addition\",x+y)\n",
        "print(\"Subtrationtion\",x-y)\n",
        "print(\"Multiplication\",x*y)\n",
        "print(\"Division=\",x/y)"
      ]
    },
    {
      "cell_type": "code",
      "execution_count": null,
      "id": "629435bd-6bfa-44de-91d9-3b2937713257",
      "metadata": {
        "colab": {
          "base_uri": "https://localhost:8080/"
        },
        "id": "629435bd-6bfa-44de-91d9-3b2937713257",
        "outputId": "3d82b7f9-a14e-417a-f2dd-771070b411f2"
      },
      "outputs": [
        {
          "name": "stdout",
          "output_type": "stream",
          "text": [
            "123 = <class 'int'>\n",
            "123.0 = <class 'float'>\n"
          ]
        }
      ],
      "source": [
        "# Write a Python program to convert a string \"123\" to an integer and a float and print the results.\n",
        "string=\"123\"\n",
        "integer_var=int(string)\n",
        "float_var=float(string)\n",
        "print(string,\"=\",type(integer_var))\n",
        "print(float_var,\"=\",type(float_var))"
      ]
    },
    {
      "cell_type": "code",
      "execution_count": null,
      "id": "599421f1-51c1-4653-9d78-b007fcc6861b",
      "metadata": {
        "colab": {
          "base_uri": "https://localhost:8080/"
        },
        "id": "599421f1-51c1-4653-9d78-b007fcc6861b",
        "outputId": "687d26ef-6301-4edc-9ce0-047dff350306"
      },
      "outputs": [
        {
          "name": "stdout",
          "output_type": "stream",
          "text": [
            "Enter input:varsha\n",
            "v\n"
          ]
        }
      ],
      "source": [
        "# Write a Python program to print the first character of a given string. (User input for the string)\n",
        "input_string=input(\"Enter input:\")\n",
        "print(\"First character\",input_string[0])"
      ]
    },
    {
      "cell_type": "code",
      "execution_count": null,
      "id": "54ee0a5d-415f-40b6-b82e-c0de12a002f9",
      "metadata": {
        "colab": {
          "base_uri": "https://localhost:8080/"
        },
        "id": "54ee0a5d-415f-40b6-b82e-c0de12a002f9",
        "outputId": "da8077ae-8ec9-4a32-af56-7d46a52a812b"
      },
      "outputs": [
        {
          "name": "stdout",
          "output_type": "stream",
          "text": [
            "Enter input:varsha\n",
            "length= 6\n"
          ]
        }
      ],
      "source": [
        "# Write a Python program to print the length of a string. (User input for the string)\n",
        "input_string=input(\"Enter input:\")\n",
        "print(\"length=\", len(input_string))"
      ]
    },
    {
      "cell_type": "code",
      "execution_count": null,
      "id": "65f44c33-618e-4337-a9d1-9de888c93a0a",
      "metadata": {
        "colab": {
          "base_uri": "https://localhost:8080/"
        },
        "id": "65f44c33-618e-4337-a9d1-9de888c93a0a",
        "outputId": "bd492efe-1883-4cd3-d547-eb6b6cc3ad06"
      },
      "outputs": [
        {
          "name": "stdout",
          "output_type": "stream",
          "text": [
            "Enter input:va12\n",
            "The given string has other characters too.\n"
          ]
        }
      ],
      "source": [
        "# Write a Python program to check if a given string contains only alphabets.\n",
        "input_string=input(\"Enter input:\")\n",
        "if input_string.isalpha():\n",
        "  print(\"Contains only alphabets\")\n",
        "else:\n",
        "  print(\"The given string has other characters too.\")"
      ]
    },
    {
      "cell_type": "code",
      "execution_count": null,
      "id": "37463128-2b51-4860-b6bf-40d3c03fbe84",
      "metadata": {
        "colab": {
          "base_uri": "https://localhost:8080/"
        },
        "id": "37463128-2b51-4860-b6bf-40d3c03fbe84",
        "outputId": "5e5f5a5a-b9aa-418a-92ad-5a2e08fbabcb"
      },
      "outputs": [
        {
          "name": "stdout",
          "output_type": "stream",
          "text": [
            "Enter the string 1:var\n",
            "Enter the string 2:sha\n",
            "varsha\n"
          ]
        }
      ],
      "source": [
        "# Write a Python program to concatenate two strings. (User input for the strings)\n",
        "string1=input(\"Enter the string 1:\")\n",
        "string2=input(\"Enter the string 2:\")\n",
        "print(string1+string2)"
      ]
    },
    {
      "cell_type": "code",
      "execution_count": null,
      "id": "b1c5d364-eccf-473a-b03a-ab15f3e917cf",
      "metadata": {
        "id": "b1c5d364-eccf-473a-b03a-ab15f3e917cf",
        "outputId": "845ca650-a35d-442f-b28f-3ec122fc4eaa"
      },
      "outputs": [
        {
          "name": "stdout",
          "output_type": "stream",
          "text": [
            "4\n"
          ]
        }
      ],
      "source": [
        "# Write a Python program to find the index of a substring \"abc\" in a string. (User input for the string)\n",
        "string=input(\"Enter string:\")\n",
        "print(string.find(\"abc\"))"
      ]
    },
    {
      "cell_type": "code",
      "execution_count": null,
      "id": "cc92afd9-ba4b-4934-a79d-f26825b4efc2",
      "metadata": {
        "id": "cc92afd9-ba4b-4934-a79d-f26825b4efc2",
        "outputId": "5f640a4a-3e7e-4a44-80f6-d352fc9a79e0"
      },
      "outputs": [
        {
          "name": "stdout",
          "output_type": "stream",
          "text": [
            "Upper Case: VARSHA\n",
            "Lower Case varsha\n"
          ]
        }
      ],
      "source": [
        "# Write a Python program to convert a string to both uppercase and lowercase. (User input for the string)\n",
        "string=input(\"Enter input:\")\n",
        "print(\"Upper Case:\",string.upper())\n",
        "print(\"Lower Case:\",string.lower())"
      ]
    },
    {
      "cell_type": "code",
      "execution_count": null,
      "id": "f24f79b3-da8b-44bf-8310-c68442e86e3e",
      "metadata": {
        "id": "f24f79b3-da8b-44bf-8310-c68442e86e3e",
        "outputId": "35b689f9-8cc2-4720-ace5-b72942421f8f"
      },
      "outputs": [
        {
          "name": "stdout",
          "output_type": "stream",
          "text": [
            "a occurs 0 times\n"
          ]
        }
      ],
      "source": [
        "# Write a Python program to count how many times a particular character appears in a string. (User input for string and character)\n",
        "count=0\n",
        "var=input(\"Enter input:\")\n",
        "character=input(\"Enter the character to be searched:\")\n",
        "for i in var:\n",
        "    if i in character:\n",
        "        count=count+1\n",
        "print(character,\"occurs\",count,\"times\")\n"
      ]
    },
    {
      "cell_type": "code",
      "execution_count": null,
      "id": "f2e8f25c-5c34-44eb-b749-7cc4c100b9a8",
      "metadata": {
        "id": "f2e8f25c-5c34-44eb-b749-7cc4c100b9a8",
        "outputId": "8cb1bf65-f7a6-429d-9eef-bbac61644178"
      },
      "outputs": [
        {
          "name": "stdout",
          "output_type": "stream",
          "text": [
            "Hello, Varsha , Good Morning\n"
          ]
        }
      ],
      "source": [
        "# Write a Python program to take the user's name as input and print a personalized greeting. (Hello, username, Good Morning)\n",
        "user_name=str(input())\n",
        "print(\"Hello,\",user_name,\", Good Morning\")"
      ]
    },
    {
      "cell_type": "code",
      "execution_count": null,
      "id": "189296cf-77e6-4f48-b010-77458da5bc9d",
      "metadata": {
        "id": "189296cf-77e6-4f48-b010-77458da5bc9d",
        "outputId": "d5c8016b-3e5c-4cdd-d609-d1aa471805f3"
      },
      "outputs": [
        {
          "name": "stdout",
          "output_type": "stream",
          "text": [
            "7\n"
          ]
        }
      ],
      "source": [
        "# Write a Python program to take two numbers as input and print their sum.\n",
        "x=int(input(\"Enter 1st value:\"))\n",
        "y=int(input(\"Enter 2nd value:\"))\n",
        "print(x+y)"
      ]
    },
    {
      "cell_type": "code",
      "execution_count": null,
      "id": "0563b26c-0218-47b8-9035-98beb73b0931",
      "metadata": {
        "id": "0563b26c-0218-47b8-9035-98beb73b0931",
        "outputId": "200b5ec6-f102-4bf2-8ca4-80cd81ac3270"
      },
      "outputs": [
        {
          "name": "stdout",
          "output_type": "stream",
          "text": [
            "Name: varsha \n",
            " Age: 20\n"
          ]
        }
      ],
      "source": [
        "# Write a Python program to format and display a string containing the user's name and age. (User input required)\n",
        "user_input=input(\"Enter name and age:\")\n",
        "name, age=user_input.split()\n",
        "print(\"Name:\",name,\"\\nAge:\",age)"
      ]
    },
    {
      "cell_type": "markdown",
      "id": "0bde6e5a-0415-4b06-8b5a-95fa252b34eb",
      "metadata": {
        "id": "0bde6e5a-0415-4b06-8b5a-95fa252b34eb"
      },
      "source": [
        "## Control Structures (Conditionals and Loops)"
      ]
    },
    {
      "cell_type": "code",
      "execution_count": null,
      "id": "aefff5f3-b61e-43e6-a458-7367ef1af9de",
      "metadata": {
        "id": "aefff5f3-b61e-43e6-a458-7367ef1af9de",
        "outputId": "113ff108-a7fe-416a-93d0-88de1b60d3df"
      },
      "outputs": [
        {
          "name": "stdout",
          "output_type": "stream",
          "text": [
            "Input is equal to zero\n"
          ]
        }
      ],
      "source": [
        "# Write a Python program that takes a number as input and checks whether it is positive, negative, or zero.\n",
        "num=int(input(\"Enter a number:\"))\n",
        "if num>0:\n",
        "    print(\"Input is Positive\")\n",
        "elif num<0:\n",
        "    print(\"Input is negative\")\n",
        "else:\n",
        "    print(\"Input is equal to zero\")"
      ]
    },
    {
      "cell_type": "code",
      "execution_count": null,
      "id": "4dc6d14b-6d22-4348-859a-2a03f9be65f7",
      "metadata": {
        "id": "4dc6d14b-6d22-4348-859a-2a03f9be65f7",
        "outputId": "5854762c-4069-4c70-a53b-571f2cec8959"
      },
      "outputs": [
        {
          "name": "stdout",
          "output_type": "stream",
          "text": [
            "Maximum of (4, 7, 9) is 9\n"
          ]
        }
      ],
      "source": [
        "# Write a Python program to find the maximum of three numbers. (User input for the numbers)\n",
        "a=int(input(\"Enter values of a:\"))\n",
        "b=int(input(\"Enter values of b:\"))\n",
        "c=int(input(\"Enter values of c\"))\n",
        "print(f\"Maximum of {a,b,c} is\",max(a,b,c))"
      ]
    },
    {
      "cell_type": "code",
      "execution_count": null,
      "id": "3f6d1f45-eb68-4142-89d6-510046f21879",
      "metadata": {
        "id": "3f6d1f45-eb68-4142-89d6-510046f21879",
        "outputId": "feb7bc4a-af80-4c16-9143-a09503db8064"
      },
      "outputs": [
        {
          "name": "stdout",
          "output_type": "stream",
          "text": [
            "1000 is not a leap year\n"
          ]
        }
      ],
      "source": [
        "# Write a Python program to check if a year is a leap year. (User input for the year)\n",
        "year=int(input(\"Enter a year:\"))\n",
        "if year%400==0:\n",
        "    print(f\"{year} is a leap year\")\n",
        "elif year%4==0 and year%100!=0:\n",
        "    print(f\"{year} is a leap year\")\n",
        "else:\n",
        "    print(f\"{year} is not a leap year\")\n"
      ]
    },
    {
      "cell_type": "code",
      "execution_count": null,
      "id": "b6a07105-6fa5-4f70-b64b-ebd66afc3c2b",
      "metadata": {
        "id": "b6a07105-6fa5-4f70-b64b-ebd66afc3c2b",
        "outputId": "20a46c3e-c18a-44c2-939d-138c71564a55"
      },
      "outputs": [
        {
          "name": "stdout",
          "output_type": "stream",
          "text": [
            "The number 30 is divisible with both 3 and 5\n"
          ]
        }
      ],
      "source": [
        "# Write a Python program to check if a number is divisible by both 3 and 5. (User input for the number)\n",
        "number=int(input(\"Enter the number:\"))\n",
        "if number%3==0 and number%5==0:\n",
        "    print(f\"The number {number} is divisible with both 3 and 5\")\n",
        "else:\n",
        "    print(f\"The nubmer {number} is not divisible with both 3 and 5\")"
      ]
    },
    {
      "cell_type": "code",
      "execution_count": null,
      "id": "d10c9005-b85d-42f9-81d0-65d149415888",
      "metadata": {
        "id": "d10c9005-b85d-42f9-81d0-65d149415888",
        "outputId": "8ed9f46c-4ced-426b-938a-dc0f9c061a19"
      },
      "outputs": [
        {
          "name": "stdout",
          "output_type": "stream",
          "text": [
            "lalal\n",
            "The given string is a pallindrome string\n"
          ]
        }
      ],
      "source": [
        "# Write a Python program to check if a string is a palindrome. (User input for the string)\n",
        "pallin=input(\"Enter the string:\")\n",
        "pallin_reverse=''.join(reversed(pallin))\n",
        "if pallin== pallin_reverse:\n",
        "    print(\"The given string is a pallindrome string\")\n",
        "else:\n",
        "    print(\"The given string is not a pallindorme string\")"
      ]
    },
    {
      "cell_type": "code",
      "execution_count": null,
      "id": "82d76cdf-efc6-45c6-ab09-9d1f17b3d857",
      "metadata": {
        "id": "82d76cdf-efc6-45c6-ab09-9d1f17b3d857",
        "outputId": "c06970ad-c08e-4c00-a0a5-84f1d01079ca"
      },
      "outputs": [
        {
          "name": "stdout",
          "output_type": "stream",
          "text": [
            "1\n",
            "2\n",
            "3\n",
            "4\n",
            "5\n",
            "6\n",
            "7\n",
            "8\n",
            "9\n",
            "10\n"
          ]
        }
      ],
      "source": [
        "# Write a Python program to print numbers from 1 to 10 using a for loop.\n",
        "for i in range(1,11):\n",
        "    print(i)"
      ]
    },
    {
      "cell_type": "code",
      "execution_count": null,
      "id": "d09e8994-e984-4c12-ab1e-1bfc6938a389",
      "metadata": {
        "id": "d09e8994-e984-4c12-ab1e-1bfc6938a389",
        "outputId": "cd68a088-0d0e-465a-a0d1-0d9b2022383e"
      },
      "outputs": [
        {
          "name": "stdout",
          "output_type": "stream",
          "text": [
            "2\n",
            "4\n",
            "6\n",
            "8\n",
            "10\n",
            "12\n",
            "14\n",
            "16\n",
            "18\n",
            "20\n"
          ]
        }
      ],
      "source": [
        "# Write a Python program to print all even numbers from 1 to 20 using a while loop.\n",
        "i=1\n",
        "while i<=20:\n",
        "    if i%2==0:\n",
        "        print(i)\n",
        "    i+=1"
      ]
    },
    {
      "cell_type": "code",
      "execution_count": null,
      "id": "c09ca878-167e-49ca-97f0-247a43c9b472",
      "metadata": {
        "id": "c09ca878-167e-49ca-97f0-247a43c9b472",
        "outputId": "21547ad5-3b4f-48c7-ef0f-ec37eb3a8a88"
      },
      "outputs": [
        {
          "name": "stdout",
          "output_type": "stream",
          "text": [
            "4*1=4\n",
            "4*2=8\n",
            "4*3=12\n",
            "4*4=16\n",
            "4*5=20\n",
            "4*6=24\n",
            "4*7=28\n",
            "4*8=32\n",
            "4*9=36\n",
            "4*10=40\n"
          ]
        }
      ],
      "source": [
        "# Write a Python program to print the multiplication table of a given number using a for loop. (User input for the number)\n",
        "table_input=int(input(\"Enter the number for which the table has to be generated:\"))\n",
        "for i in range(1,11):\n",
        "    print(f\"{table_input}*{i}={table_input*i}\")"
      ]
    },
    {
      "cell_type": "code",
      "execution_count": null,
      "id": "b72118ab-e62d-4af9-bcec-e1cc6af31b25",
      "metadata": {
        "id": "b72118ab-e62d-4af9-bcec-e1cc6af31b25",
        "outputId": "b294c236-c687-4a9c-c6e7-daa0e5bfede1"
      },
      "outputs": [
        {
          "name": "stdout",
          "output_type": "stream",
          "text": [
            "The sum of 1 to 5 is 15\n"
          ]
        }
      ],
      "source": [
        "# Write a Python program to calculate the sum of all numbers from 1 to n using a while loop. (User input for n)\n",
        "n=int(input(\"Enter the n value:\"))\n",
        "i=1\n",
        "sum=0\n",
        "while i<=n:\n",
        "    sum+=i\n",
        "    i+=1\n",
        "print(f\"The sum of 1 to {n} is\", sum)"
      ]
    },
    {
      "cell_type": "code",
      "execution_count": null,
      "id": "ae93621f-11a2-40b7-97bc-3002f03ac36a",
      "metadata": {
        "id": "ae93621f-11a2-40b7-97bc-3002f03ac36a",
        "outputId": "09ab6843-8e6b-4cdf-b317-de44bb840107"
      },
      "outputs": [
        {
          "name": "stdout",
          "output_type": "stream",
          "text": [
            "The sum of 1 to 5 is 120\n"
          ]
        }
      ],
      "source": [
        "# Write a Python program to calculate the factorial of a number using a while loop. (User input for the number)\n",
        "n=int(input(\"Enter the n value:\"))\n",
        "i=1\n",
        "fact=1\n",
        "while i<=n:\n",
        "    fact*=i\n",
        "    i+=1\n",
        "print(f\"The sum of 1 to {n} is\", fact)"
      ]
    },
    {
      "cell_type": "code",
      "execution_count": null,
      "id": "68467ccc-d696-4ef1-84c4-164c9d87f755",
      "metadata": {
        "id": "68467ccc-d696-4ef1-84c4-164c9d87f755",
        "outputId": "4edcb406-cb39-420c-d257-fb394b9068c3"
      },
      "outputs": [
        {
          "name": "stdout",
          "output_type": "stream",
          "text": [
            "0 1 1 2 3 5 8 13 21 34 "
          ]
        }
      ],
      "source": [
        "# Write a Python program to print the Fibonacci sequence up to n terms. (User input for n)\n",
        "n=int(input(\"Enter the valuse of n:\"))\n",
        "a=0\n",
        "b=1\n",
        "print(a,b,end=\" \")\n",
        "count=2\n",
        "while count!=n:\n",
        "    c=a+b\n",
        "    print(c, end=\" \")\n",
        "    count+=1\n",
        "    a=b\n",
        "    b=c"
      ]
    },
    {
      "cell_type": "code",
      "execution_count": null,
      "id": "5bebd1f3-2606-4102-aa55-01cb1650f632",
      "metadata": {
        "id": "5bebd1f3-2606-4102-aa55-01cb1650f632",
        "outputId": "d596768e-c106-4300-a07f-7bc7f7e88b00"
      },
      "outputs": [
        {
          "name": "stdout",
          "output_type": "stream",
          "text": [
            "1\n",
            "2\n",
            "3\n",
            "5\n",
            "7\n",
            "11\n",
            "13\n",
            "17\n",
            "19\n",
            "23\n",
            "29\n",
            "31\n",
            "37\n",
            "41\n",
            "43\n",
            "47\n",
            "53\n",
            "59\n",
            "61\n",
            "67\n",
            "71\n",
            "73\n",
            "79\n",
            "83\n",
            "89\n",
            "97\n"
          ]
        }
      ],
      "source": [
        "# Write a Python program to find all the prime numbers from 1 to 100.\n",
        "def prime(n):\n",
        "    count=0\n",
        "    for i in range(2,n):\n",
        "        if n%i==0:\n",
        "            count+=1\n",
        "    if count==0:\n",
        "        return True\n",
        "    else:\n",
        "        return False\n",
        "\n",
        "def main():\n",
        "    for i in range(1,101):\n",
        "        if prime(i):\n",
        "            print(i)\n",
        "\n",
        "main()"
      ]
    },
    {
      "cell_type": "code",
      "execution_count": null,
      "id": "0a3f894e-52ba-4c0b-9158-a70f31f4fd49",
      "metadata": {
        "id": "0a3f894e-52ba-4c0b-9158-a70f31f4fd49",
        "outputId": "257006f5-2267-4c07-96e5-8bb43be3205d",
        "colab": {
          "base_uri": "https://localhost:8080/"
        }
      },
      "outputs": [
        {
          "output_type": "stream",
          "name": "stdout",
          "text": [
            "20 Less than 50\n",
            "16 Less than 50\n",
            "25 Less than 50\n",
            "48 Less than 50\n",
            "Breaks out of the loop since value greater than 50 was found\n"
          ]
        }
      ],
      "source": [
        "# Write a Python program that breaks out of a loop when a specific condition is met (e.g., when a number greater than 50 is found).\n",
        "list_num=[20,16,25,48,69,50]\n",
        "for i in list_num:\n",
        "  if i>50:\n",
        "    print(\"Breaks out of the loop since value greater than 50 was found\")\n",
        "    break\n",
        "  else:\n",
        "    print(i,\"Less than 50\")\n"
      ]
    },
    {
      "cell_type": "code",
      "execution_count": null,
      "id": "499b91d0-1f1b-494f-af2b-8cc3a06d90ed",
      "metadata": {
        "id": "499b91d0-1f1b-494f-af2b-8cc3a06d90ed",
        "outputId": "19854a50-8b78-4703-d2b4-a7c6a2c6e1ad"
      },
      "outputs": [
        {
          "name": "stdout",
          "output_type": "stream",
          "text": [
            "1\n",
            "3\n",
            "5\n",
            "7\n",
            "9\n",
            "11\n",
            "13\n",
            "15\n",
            "17\n",
            "19\n"
          ]
        }
      ],
      "source": [
        "# Write a Python program to skip even numbers while printing numbers from 1 to 20 using a for loop.\n",
        "i=1\n",
        "while i<=20:\n",
        "    if i%2!=0:\n",
        "        print(i)\n",
        "    i+=1"
      ]
    },
    {
      "cell_type": "code",
      "execution_count": null,
      "id": "f8ffed70-dfde-4262-a2fd-0d35d69b5fb1",
      "metadata": {
        "id": "f8ffed70-dfde-4262-a2fd-0d35d69b5fb1",
        "outputId": "a9c2bb42-a8d6-495a-fb5c-a514f798cde0",
        "colab": {
          "base_uri": "https://localhost:8080/"
        }
      },
      "outputs": [
        {
          "output_type": "stream",
          "name": "stdout",
          "text": [
            "Enter input:varsha\n",
            "Enter the character to be searched:v\n",
            "v occurs 1 times\n"
          ]
        }
      ],
      "source": [
        "# Write a Python program to count how many times a particular character appears in a string using a for loop. (User input for string and character)\n",
        "count=0\n",
        "var=input(\"Enter input:\")\n",
        "character=input(\"Enter the character to be searched:\")\n",
        "for i in var:\n",
        "    if i in character:\n",
        "        count=count+1\n",
        "print(character,\"occurs\",count,\"times\")"
      ]
    },
    {
      "cell_type": "code",
      "execution_count": null,
      "id": "01f976ed-4dcd-4842-ae84-d3b5cc42d011",
      "metadata": {
        "id": "01f976ed-4dcd-4842-ae84-d3b5cc42d011",
        "outputId": "9a808e87-53ed-442f-aaf3-00e7ecac087b"
      },
      "outputs": [
        {
          "name": "stdout",
          "output_type": "stream",
          "text": [
            "Sum= 9\n"
          ]
        }
      ],
      "source": [
        "# Write a Python program to calculate the sum of digits of a number. (User input for the number)\n",
        "n=input(\"Enter the number:\")\n",
        "sum=0\n",
        "n=str(n)\n",
        "for i in n:\n",
        "    sum=sum+int(i)\n",
        "print(\"Sum=\",sum)"
      ]
    },
    {
      "cell_type": "markdown",
      "id": "fe644fae-f262-48dd-b7ff-08eb747d297e",
      "metadata": {
        "id": "fe644fae-f262-48dd-b7ff-08eb747d297e"
      },
      "source": [
        "## Data Structures (Lists, Tuples, Sets, Dictionaries)"
      ]
    },
    {
      "cell_type": "code",
      "execution_count": null,
      "id": "a0333c26-8e19-4c71-9722-d32cf8625ef6",
      "metadata": {
        "id": "a0333c26-8e19-4c71-9722-d32cf8625ef6",
        "outputId": "42c3428c-a414-4e9c-ef78-44bb8efe24ee",
        "colab": {
          "base_uri": "https://localhost:8080/"
        }
      },
      "outputs": [
        {
          "output_type": "stream",
          "name": "stdout",
          "text": [
            "55\n"
          ]
        }
      ],
      "source": [
        "# Write a Python program to create a list of integers and print the sum of the elements.\n",
        "list_num=[1,2,3,4,5,6,7,8,9,10]\n",
        "print(sum(list_num))"
      ]
    },
    {
      "cell_type": "code",
      "execution_count": null,
      "id": "5a23046d-80b0-4f8d-a02f-4e3d833c0443",
      "metadata": {
        "id": "5a23046d-80b0-4f8d-a02f-4e3d833c0443",
        "outputId": "8c4039c3-7185-4db0-c8ee-97e052d2bbd5",
        "colab": {
          "base_uri": "https://localhost:8080/"
        }
      },
      "outputs": [
        {
          "output_type": "stream",
          "name": "stdout",
          "text": [
            "10\n"
          ]
        }
      ],
      "source": [
        "# Write a Python program to find the largest element in a list.\n",
        "list_num=[1,2,3,4,5,6,7,8,9,10]\n",
        "print(max(list_num))"
      ]
    },
    {
      "cell_type": "code",
      "execution_count": null,
      "id": "9939c2d2-90fd-4e80-81bc-227c72e60e37",
      "metadata": {
        "id": "9939c2d2-90fd-4e80-81bc-227c72e60e37"
      },
      "outputs": [],
      "source": [
        "# Write a Python program to reverse a list.\n",
        "list_num=[1,2,3,4,5,6,7,8,9,10]\n",
        "print(list_num[::-1])"
      ]
    },
    {
      "cell_type": "code",
      "execution_count": null,
      "id": "aa287db8-057b-48d4-a6d8-18cc53eb7178",
      "metadata": {
        "id": "aa287db8-057b-48d4-a6d8-18cc53eb7178",
        "outputId": "c9835d08-f5ca-4be3-dcc8-d4bc9a2f1f5d",
        "colab": {
          "base_uri": "https://localhost:8080/"
        }
      },
      "outputs": [
        {
          "output_type": "stream",
          "name": "stdout",
          "text": [
            "[1, 2, 3, 4, 6, 7, 8, 9, 10]\n"
          ]
        }
      ],
      "source": [
        "# Write a Python program to remove all occurrences of a specific element from a list.\n",
        "list_num=[1,2,3,4,5,6,7,8,9,10]\n",
        "list_num.remove(5)\n",
        "print(list_num)"
      ]
    },
    {
      "cell_type": "code",
      "execution_count": null,
      "id": "da9ba926-0ab5-46e9-b66d-128088c3225b",
      "metadata": {
        "id": "da9ba926-0ab5-46e9-b66d-128088c3225b",
        "outputId": "21c50964-2b94-4ea5-9b45-b3e9650f03cf",
        "colab": {
          "base_uri": "https://localhost:8080/"
        }
      },
      "outputs": [
        {
          "output_type": "stream",
          "name": "stdout",
          "text": [
            "4\n"
          ]
        }
      ],
      "source": [
        "# Write a Python program to find the index of an element in a list.\n",
        "list_num=[1,2,3,4,5,6,7,8,9,10]\n",
        "print(list_num.index(5))"
      ]
    },
    {
      "cell_type": "code",
      "execution_count": null,
      "id": "9601b6e4-cb90-4e1f-87b4-38ed37076e0d",
      "metadata": {
        "id": "9601b6e4-cb90-4e1f-87b4-38ed37076e0d",
        "outputId": "cc28fcb1-ef09-4a10-d010-8b07255fcaa5",
        "colab": {
          "base_uri": "https://localhost:8080/"
        }
      },
      "outputs": [
        {
          "output_type": "stream",
          "name": "stdout",
          "text": [
            "Element doesn't exist in list\n"
          ]
        }
      ],
      "source": [
        "# Write a Python program to find if a specific element exists in a list.\n",
        "list_num=[1,2,3,4,5,6,7,8,9,10]\n",
        "if 11 in list_num:\n",
        "  print(\"Element exists in list\")\n",
        "else:\n",
        "  print(\"Element doesn't exist in list\")"
      ]
    },
    {
      "cell_type": "code",
      "execution_count": null,
      "id": "9d8e7311-81de-4da2-826c-c4dcad28ed9f",
      "metadata": {
        "id": "9d8e7311-81de-4da2-826c-c4dcad28ed9f",
        "outputId": "e4aa24cc-1c66-40ac-b0a0-caafca851067",
        "colab": {
          "base_uri": "https://localhost:8080/"
        }
      },
      "outputs": [
        {
          "output_type": "stream",
          "name": "stdout",
          "text": [
            "[2, 4, 10, 20, 5]\n"
          ]
        }
      ],
      "source": [
        "# Write a Python program to remove duplicates from a list.\n",
        "def Remove(duplicate):\n",
        "    final_list = []\n",
        "    for num in duplicate:\n",
        "        if num not in final_list:\n",
        "            final_list.append(num)\n",
        "    return final_list\n",
        "\n",
        "duplicate = [2, 4, 10, 20, 5, 2, 20, 4]\n",
        "print(Remove(duplicate))"
      ]
    },
    {
      "cell_type": "code",
      "execution_count": null,
      "id": "09e5121b-97b3-42e4-8025-f28f3470681b",
      "metadata": {
        "id": "09e5121b-97b3-42e4-8025-f28f3470681b",
        "outputId": "e6124155-cc4e-4928-b659-af9d77bfdc6e",
        "colab": {
          "base_uri": "https://localhost:8080/"
        }
      },
      "outputs": [
        {
          "output_type": "stream",
          "name": "stdout",
          "text": [
            "5 occurs 3 times in the list\n"
          ]
        }
      ],
      "source": [
        "# Write a Python program to count the occurrences of an element in a list.\n",
        "list_num=[1,2,3,4,5,6,7,8,9,10,6,3,5,7,8,1,7,2,5,2,4]\n",
        "print(\"5 occurs\",list_num.count(5),\"times in the list\")"
      ]
    },
    {
      "cell_type": "code",
      "execution_count": null,
      "id": "b774b741-e9a6-45db-8f00-e6d9b734d03a",
      "metadata": {
        "id": "b774b741-e9a6-45db-8f00-e6d9b734d03a",
        "outputId": "0e5b9bfe-e9e1-4384-ec10-aa07d1b5853a",
        "colab": {
          "base_uri": "https://localhost:8080/"
        }
      },
      "outputs": [
        {
          "output_type": "stream",
          "name": "stdout",
          "text": [
            "2\n",
            "4\n",
            "6\n",
            "8\n",
            "10\n",
            "6\n",
            "8\n",
            "2\n",
            "2\n",
            "4\n"
          ]
        }
      ],
      "source": [
        "# Write a Python program to get the number of even numbers in a list.\n",
        "list_num=[1,2,3,4,5,6,7,8,9,10,6,3,5,7,8,1,7,2,5,2,4]\n",
        "for i in list_num:\n",
        "  if i%2==0:\n",
        "    print(i)"
      ]
    },
    {
      "cell_type": "code",
      "execution_count": null,
      "id": "5ce4fd2b-ab16-4b40-9ac2-d19c244d8d96",
      "metadata": {
        "id": "5ce4fd2b-ab16-4b40-9ac2-d19c244d8d96",
        "outputId": "4bbe0e8d-b9c2-4176-b22d-5e717b85e624",
        "colab": {
          "base_uri": "https://localhost:8080/"
        }
      },
      "outputs": [
        {
          "output_type": "stream",
          "name": "stdout",
          "text": [
            "(1, 2, 3, 4, 5, 6, 7, 8, 9, 10, 6, 3, 5, 7, 8, 1, 7, 2, 5, 2)\n"
          ]
        }
      ],
      "source": [
        "# Write a Python program to create a tuple and print it.\n",
        "tuple_num=(1,2,3,4,5,6,7,8,9,10,6,3,5,7,8,1,7,2,5,2)\n",
        "print(tuple_num)"
      ]
    },
    {
      "cell_type": "code",
      "execution_count": null,
      "id": "5c04f880-6e96-4ef4-9f4b-df21aae76ff1",
      "metadata": {
        "id": "5c04f880-6e96-4ef4-9f4b-df21aae76ff1",
        "outputId": "5a5178a1-a821-4e46-803e-c9a583c6c6dc",
        "colab": {
          "base_uri": "https://localhost:8080/"
        }
      },
      "outputs": [
        {
          "output_type": "stream",
          "name": "stdout",
          "text": [
            "[1, 2, 3, 4, 5, 6, 7, 8, 9, 10, 6, 3, 5, 7, 8, 1, 7, 2, 5, 2] Tuple Converted to list\n",
            "(1, 2, 3, 4, 5, 6, 7, 8, 9, 10, 6, 3, 5, 7, 8, 1, 7, 2, 5, 2) List converted to Tuple\n"
          ]
        }
      ],
      "source": [
        "# Write a Python program to convert a tuple to a list and vice versa.\n",
        "tuple_num=(1,2,3,4,5,6,7,8,9,10,6,3,5,7,8,1,7,2,5,2)\n",
        "list_convert=list(tuple_num)\n",
        "print(list_convert,\"Tuple Converted to list\")\n",
        "tuple_num=tuple(list_convert)\n",
        "print(tuple_num,\"List converted to Tuple\")"
      ]
    },
    {
      "cell_type": "code",
      "execution_count": null,
      "id": "d5192acc-27f3-456e-9c72-3b276a587bf5",
      "metadata": {
        "id": "d5192acc-27f3-456e-9c72-3b276a587bf5",
        "outputId": "a96042a8-d90f-42c0-ef97-32397e503574",
        "colab": {
          "base_uri": "https://localhost:8080/"
        }
      },
      "outputs": [
        {
          "output_type": "stream",
          "name": "stdout",
          "text": [
            "Maximum in given tuple: 10\n",
            "Minimum in given tuple: 1\n"
          ]
        }
      ],
      "source": [
        "# Write a Python program to find the maximum and minimum values in a tuple.\n",
        "tuple_num=(1,2,3,4,5,6,7,8,9,10,6,3,5,7,8,1,7,2,5,2)\n",
        "print(\"Maximum in given tuple:\",max(tuple_num))\n",
        "print(\"Minimum in given tuple:\",min(tuple_num))"
      ]
    },
    {
      "cell_type": "code",
      "execution_count": null,
      "id": "43f0a340-9407-4302-af7e-4e63db578bbf",
      "metadata": {
        "id": "43f0a340-9407-4302-af7e-4e63db578bbf",
        "outputId": "c8f31152-1b28-4806-b7cd-99bff2e1748c",
        "colab": {
          "base_uri": "https://localhost:8080/"
        }
      },
      "outputs": [
        {
          "output_type": "stream",
          "name": "stdout",
          "text": [
            "10\n",
            "Student\n",
            "20\n"
          ]
        }
      ],
      "source": [
        "# Write a Python program to unpack a tuple into variables.\n",
        "tuple_data=(10,\"Student\",20)\n",
        "standard, occupation, id=tuple_data\n",
        "print(standard)\n",
        "print(occupation)\n",
        "print(20)"
      ]
    },
    {
      "cell_type": "code",
      "execution_count": null,
      "id": "46e96e29-2157-4b9f-bb24-0bd973eada9f",
      "metadata": {
        "id": "46e96e29-2157-4b9f-bb24-0bd973eada9f",
        "outputId": "a4a3369f-5854-4829-cb61-069eacb429b2",
        "colab": {
          "base_uri": "https://localhost:8080/"
        }
      },
      "outputs": [
        {
          "output_type": "stream",
          "name": "stdout",
          "text": [
            "Before adding the element to the set: {50, 20, 40, 10, 30}\n",
            "After adding the element to the set: {50, 20, 40, 10, 60, 30}\n"
          ]
        }
      ],
      "source": [
        "# Write a Python program to add an element to a set and check if an element exists in the set.\n",
        "set_eles={10,20,30,40,50}\n",
        "print(\"Before adding the element to the set:\",set_eles)\n",
        "set_eles.add(60)\n",
        "print(\"After adding the element to the set:\",set_eles)"
      ]
    },
    {
      "cell_type": "code",
      "execution_count": null,
      "id": "d81a803b-fd80-403e-9ae3-680ef44a3d86",
      "metadata": {
        "id": "d81a803b-fd80-403e-9ae3-680ef44a3d86",
        "outputId": "5ed61012-26f8-44f4-8537-5e5c2c10f71e",
        "colab": {
          "base_uri": "https://localhost:8080/"
        }
      },
      "outputs": [
        {
          "output_type": "stream",
          "name": "stdout",
          "text": [
            "{'Name': 'Varsha', 'Age': 19, 'Gender': 'Female', 'Occupation': 'Student'}\n"
          ]
        }
      ],
      "source": [
        "# Write a Python program to create a dictionary with keys and values and print it.\n",
        "dict_val={\n",
        "    \"Name\":\"Varsha\",\n",
        "    \"Age\":19,\n",
        "    \"Gender\":\"Female\",\n",
        "    \"Occupation\":\"Student\"\n",
        "}\n",
        "print(dict_val)\n"
      ]
    },
    {
      "cell_type": "code",
      "execution_count": null,
      "id": "7432174b-fe75-4371-b23a-e2c5d62edb15",
      "metadata": {
        "id": "7432174b-fe75-4371-b23a-e2c5d62edb15",
        "outputId": "b143e1dd-5591-45d4-c024-b4bc20721cc3",
        "colab": {
          "base_uri": "https://localhost:8080/"
        }
      },
      "outputs": [
        {
          "output_type": "stream",
          "name": "stdout",
          "text": [
            "Varsha\n"
          ]
        }
      ],
      "source": [
        "# Write a Python program to access a dictionary value using a key.\n",
        "dict_val={\n",
        "    \"Name\":\"Varsha\",\n",
        "    \"Age\":19,\n",
        "    \"Gender\":\"Female\",\n",
        "    \"Occupation\":\"Student\"\n",
        "}\n",
        "print(dict_val['Name'])"
      ]
    },
    {
      "cell_type": "code",
      "execution_count": null,
      "id": "000b3260-d91f-41f2-9729-4b0124f2c4d2",
      "metadata": {
        "id": "000b3260-d91f-41f2-9729-4b0124f2c4d2"
      },
      "outputs": [],
      "source": [
        "# Write a Python program to check if a key exists in a dictionary.\n",
        "dict_val={\n",
        "    \"Name\":\"Varsha\",\n",
        "    \"Age\":19,\n",
        "    \"Gender\":\"Female\",\n",
        "    \"Occupation\":\"Student\"\n",
        "}\n",
        "if 'Name' in dict_val:\n",
        "  print(\"The key exists in the dictionary\")\n",
        "else:\n",
        "  print(\"The key does not exist in the dictionary\")"
      ]
    },
    {
      "cell_type": "code",
      "execution_count": null,
      "id": "c4b1a942-818e-42c1-b742-1fabe80fca6d",
      "metadata": {
        "id": "c4b1a942-818e-42c1-b742-1fabe80fca6d",
        "outputId": "307ab94b-b2c7-4917-f2e8-abfcaf38c5c8",
        "colab": {
          "base_uri": "https://localhost:8080/"
        }
      },
      "outputs": [
        {
          "output_type": "stream",
          "name": "stdout",
          "text": [
            "{'Name': 'Varsha', 'Age': 19, 'Gender': 'Female', 'Occupation': 'Student'}\n"
          ]
        }
      ],
      "source": [
        "# Write a Python program to merge two dictionaries.\n",
        "dict1={\n",
        "    \"Name\":\"Varsha\",\n",
        "    \"Age\":19,\n",
        "}\n",
        "dict2={\n",
        "    \"Gender\":\"Female\",\n",
        "    \"Occupation\":\"Student\"\n",
        "}\n",
        "dict1.update(dict2)\n",
        "print(dict1)"
      ]
    },
    {
      "cell_type": "code",
      "execution_count": null,
      "id": "a78f1070-3ff3-436a-8391-153f019f53cd",
      "metadata": {
        "id": "a78f1070-3ff3-436a-8391-153f019f53cd",
        "outputId": "ff2f0993-a497-48ee-e988-47eea0b689ac",
        "colab": {
          "base_uri": "https://localhost:8080/"
        }
      },
      "outputs": [
        {
          "output_type": "stream",
          "name": "stdout",
          "text": [
            "{'Name': 'Varsha', 'Gender': 'Female', 'Occupation': 'Student'}\n"
          ]
        }
      ],
      "source": [
        "# Write a Python program to remove a key from a dictionary.\n",
        "dict_val={\n",
        "    \"Name\":\"Varsha\",\n",
        "    \"Age\":19,\n",
        "    \"Gender\":\"Female\",\n",
        "    \"Occupation\":\"Student\"\n",
        "}\n",
        "del dict_val['Age']\n",
        "print(dict_val)"
      ]
    },
    {
      "cell_type": "code",
      "execution_count": null,
      "id": "fcba0267-8cc4-4e89-9e78-2d820916c177",
      "metadata": {
        "id": "fcba0267-8cc4-4e89-9e78-2d820916c177",
        "outputId": "08538fd2-1b35-4638-b105-643fd2e3b12b",
        "colab": {
          "base_uri": "https://localhost:8080/"
        }
      },
      "outputs": [
        {
          "output_type": "stream",
          "name": "stdout",
          "text": [
            "The size of dictionary is 4\n"
          ]
        }
      ],
      "source": [
        "# Write a Python program to get the number of keys in a dictionary.\n",
        "dict_val={\n",
        "    \"Name\":\"Varsha\",\n",
        "    \"Age\":19,\n",
        "    \"Gender\":\"Female\",\n",
        "    \"Occupation\":\"Student\"\n",
        "}\n",
        "print(\"The size of dictionary is\",len(dict_val))"
      ]
    },
    {
      "cell_type": "code",
      "execution_count": null,
      "id": "d4c5fd77-9656-43e5-8fe2-be7dca23eb6d",
      "metadata": {
        "id": "d4c5fd77-9656-43e5-8fe2-be7dca23eb6d",
        "outputId": "4a70ac5a-cdd5-4d8b-f109-114dcc87287e",
        "colab": {
          "base_uri": "https://localhost:8080/"
        }
      },
      "outputs": [
        {
          "output_type": "stream",
          "name": "stdout",
          "text": [
            "The largest values in dict are: 80\n"
          ]
        }
      ],
      "source": [
        "# Write a Python program to find the largest and smallest values in a dictionary.\n",
        "marks={\n",
        "    \"English\":80,\n",
        "    \"Maths\":78,\n",
        "    \"Social\":74,\n",
        "    \"Science\":45,\n",
        "    \"Computer\":62\n",
        "}\n",
        "marks_list=marks.values()\n",
        "print(\"The largest values in dict are:\",max(marks_list))"
      ]
    },
    {
      "cell_type": "markdown",
      "id": "7830b8cc-9a90-45a2-8e4a-6f3c2b8b133b",
      "metadata": {
        "id": "7830b8cc-9a90-45a2-8e4a-6f3c2b8b133b"
      },
      "source": [
        "## Functions (User-Defined, Arguments, Keyword Arguments, Return Values)"
      ]
    },
    {
      "cell_type": "code",
      "execution_count": null,
      "id": "06a33fba-c6b1-4989-90f4-b647d1fe1627",
      "metadata": {
        "id": "06a33fba-c6b1-4989-90f4-b647d1fe1627"
      },
      "outputs": [],
      "source": [
        "# Write a Python function that returns the square of a number.\n",
        "def square(n):\n",
        "  return n*n\n",
        "\n",
        "def main():\n",
        "  n=int(input(\"Enter the number:\"))\n",
        "  print(square(n))\n",
        "\n",
        "main()"
      ]
    },
    {
      "cell_type": "code",
      "execution_count": null,
      "id": "91d90a4a-7329-45db-893b-caed8450ba96",
      "metadata": {
        "id": "91d90a4a-7329-45db-893b-caed8450ba96",
        "outputId": "b1a1c7cf-26fb-4a86-e4a9-2bee5bb5b6a1",
        "colab": {
          "base_uri": "https://localhost:8080/"
        }
      },
      "outputs": [
        {
          "output_type": "stream",
          "name": "stdout",
          "text": [
            "Enter the number a:5\n",
            "Enter the number b:9\n",
            "14\n"
          ]
        }
      ],
      "source": [
        "# Write a Python function that accepts two parameters and returns their sum.\n",
        "def sum(a,b):\n",
        "  return a+b\n",
        "\n",
        "def main():\n",
        "  a=int(input(\"Enter the number a:\"))\n",
        "  b=int(input(\"Enter the number b:\"))\n",
        "  print(sum(a,b))\n",
        "\n",
        "main()"
      ]
    },
    {
      "cell_type": "code",
      "execution_count": null,
      "id": "dec2f9a5-90c5-478b-890b-0a506ecf45d3",
      "metadata": {
        "id": "dec2f9a5-90c5-478b-890b-0a506ecf45d3",
        "outputId": "168f14d9-6a8a-4736-88dc-18048b310670",
        "colab": {
          "base_uri": "https://localhost:8080/"
        }
      },
      "outputs": [
        {
          "output_type": "stream",
          "name": "stdout",
          "text": [
            "Enter the number:7\n",
            "The number is prime\n"
          ]
        }
      ],
      "source": [
        "# Write a Python function to check if a given number is prime.\n",
        "def prime(n):\n",
        "  for i in range(2,n):\n",
        "    if n%i==0:\n",
        "      return False\n",
        "  return True\n",
        "\n",
        "def main():\n",
        "  n=int(input(\"Enter the number:\"))\n",
        "  if prime(n):\n",
        "    print(\"The number is prime\")\n",
        "  else:\n",
        "    print(\"The number is not prime\")\n",
        "\n",
        "main()"
      ]
    },
    {
      "cell_type": "code",
      "execution_count": null,
      "id": "56337441-68c3-45df-8733-a34cde0533a5",
      "metadata": {
        "id": "56337441-68c3-45df-8733-a34cde0533a5",
        "outputId": "85019cea-a613-4cd8-b977-4bb85efef296",
        "colab": {
          "base_uri": "https://localhost:8080/"
        }
      },
      "outputs": [
        {
          "output_type": "stream",
          "name": "stdout",
          "text": [
            "Enter the number:8\n",
            "40320\n"
          ]
        }
      ],
      "source": [
        "# Write a Python function to calculate the factorial of a number using recursion.\n",
        "def fact(n):\n",
        "  if n==0:\n",
        "    return 1\n",
        "  return n*fact(n-1)\n",
        "\n",
        "def main():\n",
        "  n=int(input(\"Enter the number:\"))\n",
        "  print(fact(n))\n",
        "\n",
        "main()"
      ]
    },
    {
      "cell_type": "code",
      "execution_count": null,
      "id": "84a2d010-e7b2-409b-b1f4-99bf806bb77a",
      "metadata": {
        "id": "84a2d010-e7b2-409b-b1f4-99bf806bb77a",
        "outputId": "cf90f966-c66c-41f4-bb09-222cf5663105",
        "colab": {
          "base_uri": "https://localhost:8080/"
        }
      },
      "outputs": [
        {
          "output_type": "stream",
          "name": "stdout",
          "text": [
            "Enter the number a:7\n",
            "Enter the number b:2\n",
            "49\n"
          ]
        }
      ],
      "source": [
        "# Write a Python function to calculate the power of a number using recursion.\n",
        "def power(a,b):\n",
        "  if b==0:\n",
        "    return 1\n",
        "  return a*power(a,b-1)\n",
        "\n",
        "def main():\n",
        "  a=int(input(\"Enter the number a:\"))\n",
        "  b=int(input(\"Enter the number b:\"))\n",
        "  print(power(a,b))\n",
        "\n",
        "main()"
      ]
    },
    {
      "cell_type": "code",
      "execution_count": null,
      "id": "ec44911e-7820-46cc-96a3-4ca443888837",
      "metadata": {
        "id": "ec44911e-7820-46cc-96a3-4ca443888837",
        "outputId": "505aee7f-317e-4ea2-9390-ebfa611bd0ee",
        "colab": {
          "base_uri": "https://localhost:8080/"
        }
      },
      "outputs": [
        {
          "output_type": "stream",
          "name": "stdout",
          "text": [
            "Enter the list:4 7 8 2 6 4 9 3\n",
            "8\n"
          ]
        }
      ],
      "source": [
        "# Write a Python function to accept a list and return its length without using the built-in len() function.\n",
        "def length(list_num):\n",
        "  count=0\n",
        "  for i in list_num:\n",
        "    count+=1\n",
        "  return count\n",
        "\n",
        "def main():\n",
        "  str=input(\"Enter the list:\")\n",
        "  list_num=str.split()\n",
        "  print(length(list_num))\n",
        "\n",
        "main()"
      ]
    },
    {
      "cell_type": "code",
      "execution_count": null,
      "id": "fb4c08e1-34f3-487a-a1c6-77cd60fb4836",
      "metadata": {
        "id": "fb4c08e1-34f3-487a-a1c6-77cd60fb4836",
        "outputId": "bef9a650-efbf-4f21-ae73-568d8606e165",
        "colab": {
          "base_uri": "https://localhost:8080/"
        }
      },
      "outputs": [
        {
          "output_type": "stream",
          "name": "stdout",
          "text": [
            "Enter the number a:5\n",
            "Enter the number b:4\n",
            "9\n"
          ]
        }
      ],
      "source": [
        "# Write a Python function that accepts both positional and keyword arguments and prints the sum of positional arguments.\n",
        "def sum(*args):\n",
        "  sum=0\n",
        "  for i in args:\n",
        "    sum+=i\n",
        "  return sum\n",
        "\n",
        "def main():\n",
        "  a=int(input(\"Enter the number a:\"))\n",
        "  b=int(input(\"Enter the number b:\"))\n",
        "  print(sum(a,b))\n",
        "\n",
        "main()"
      ]
    },
    {
      "cell_type": "code",
      "execution_count": null,
      "id": "f4ffc7a8-f579-461c-b507-4085a0477283",
      "metadata": {
        "id": "f4ffc7a8-f579-461c-b507-4085a0477283",
        "outputId": "0ff234de-816a-4041-dd24-23a358649a63",
        "colab": {
          "base_uri": "https://localhost:8080/"
        }
      },
      "outputs": [
        {
          "output_type": "stream",
          "name": "stdout",
          "text": [
            "9\n"
          ]
        }
      ],
      "source": [
        "# Write a Python function to find the maximum of two numbers using keyword arguments.\n",
        "def max_val(a,b):\n",
        "  return max(a,b)\n",
        "\n",
        "def main():\n",
        "  print(max_val(a=5,b=9))\n",
        "\n",
        "main()"
      ]
    },
    {
      "cell_type": "code",
      "execution_count": 2,
      "id": "0b00c4af-89e0-43e8-a991-1b684d2ce33f",
      "metadata": {
        "id": "0b00c4af-89e0-43e8-a991-1b684d2ce33f",
        "colab": {
          "base_uri": "https://localhost:8080/"
        },
        "outputId": "9bc3cbcd-26b1-4283-d854-23bb51f4ef21"
      },
      "outputs": [
        {
          "output_type": "stream",
          "name": "stdout",
          "text": [
            "Enter the list:4 7 8 9 6 \n",
            "12096\n"
          ]
        }
      ],
      "source": [
        "# Write a Python function that accepts a list of numbers and returns their product.\n",
        "def product(list_num):\n",
        "  product=1\n",
        "  for i in list_num:\n",
        "    product*=i\n",
        "  return product\n",
        "\n",
        "def main():\n",
        "  str=input(\"Enter the list:\")\n",
        "  list_num=str.split()\n",
        "  list_num=[int(i) for i in list_num]\n",
        "  print(product(list_num))\n",
        "\n",
        "main()"
      ]
    },
    {
      "cell_type": "code",
      "execution_count": 3,
      "id": "9cd11703-5b48-44fe-af4e-ea906a2762c9",
      "metadata": {
        "id": "9cd11703-5b48-44fe-af4e-ea906a2762c9",
        "colab": {
          "base_uri": "https://localhost:8080/"
        },
        "outputId": "b6ff4e7d-cd14-44ed-9d9b-6db0e53427fc"
      },
      "outputs": [
        {
          "output_type": "stream",
          "name": "stdout",
          "text": [
            "Enter the number:5\n",
            "The number is odd\n"
          ]
        }
      ],
      "source": [
        "# Write a Python function to check if a number is even or odd using the modulo operator.\n",
        "def even_odd(n):\n",
        "  if n%2==0:\n",
        "    print(\"The number is even\")\n",
        "  else:\n",
        "    print(\"The number is odd\")\n",
        "\n",
        "def main():\n",
        "  n=int(input(\"Enter the number:\"))\n",
        "  even_odd(n)\n",
        "\n",
        "main()"
      ]
    },
    {
      "cell_type": "code",
      "execution_count": 5,
      "id": "afbf262e-daed-40a9-827f-82fa60979610",
      "metadata": {
        "id": "afbf262e-daed-40a9-827f-82fa60979610",
        "colab": {
          "base_uri": "https://localhost:8080/"
        },
        "outputId": "64c0ecec-c9be-4c4b-c05a-77b9a3dc44e1"
      },
      "outputs": [
        {
          "output_type": "stream",
          "name": "stdout",
          "text": [
            "[1, 4, 9, 16, 25, 36, 49, 64, 81, 100]\n"
          ]
        }
      ],
      "source": [
        "# Write a Python program to create a list of squares of numbers from 1 to 10 using list comprehension.\n",
        "def square(n):\n",
        "  return n*n\n",
        "\n",
        "def main():\n",
        "  list_num=[1,2,3,4,5,6,7,8,9,10]\n",
        "  list_square=[square(i) for i in list_num]\n",
        "  print(list_square)\n",
        "\n",
        "main()"
      ]
    },
    {
      "cell_type": "code",
      "execution_count": 7,
      "id": "7fff76d8-9ba8-4006-9be6-6f7350092d1c",
      "metadata": {
        "id": "7fff76d8-9ba8-4006-9be6-6f7350092d1c",
        "colab": {
          "base_uri": "https://localhost:8080/"
        },
        "outputId": "3bb7cbc6-d5ad-47ad-9325-56106ae5dac4"
      },
      "outputs": [
        {
          "output_type": "stream",
          "name": "stdout",
          "text": [
            "Enter the list:4 5 8 7 9\n",
            "[4, 8]\n"
          ]
        }
      ],
      "source": [
        "# Write a Python program to filter out all even numbers from a list using list comprehension.\n",
        "def main():\n",
        "  str=input(\"Enter the list:\")\n",
        "  list_num=str.split()\n",
        "  list_num=[int(i) for i in list_num]\n",
        "  list_even=[i for i in list_num if i%2==0]\n",
        "  print(list_even)\n",
        "\n",
        "main()"
      ]
    },
    {
      "cell_type": "code",
      "execution_count": 9,
      "id": "6ae9b8df-38f9-4fd7-bad1-aa7b07cc9271",
      "metadata": {
        "id": "6ae9b8df-38f9-4fd7-bad1-aa7b07cc9271",
        "colab": {
          "base_uri": "https://localhost:8080/"
        },
        "outputId": "ba07abd2-5176-4a39-cb7f-20f32b400dde"
      },
      "outputs": [
        {
          "output_type": "stream",
          "name": "stdout",
          "text": [
            "Enter the string:to press someone's throat very tightly so that they cannot breathe\n",
            "['press', \"someone's\", 'throat', 'tightly', 'cannot', 'breathe']\n"
          ]
        }
      ],
      "source": [
        "# Write a Python program to create a list of strings that are longer than 4 characters from a given list of words using list comprehension.\n",
        "def length(list_words):\n",
        "  list_new=[]\n",
        "  for i in list_words:\n",
        "    if len(i)>4:\n",
        "      list_new.append(i)\n",
        "  return list_new\n",
        "\n",
        "def main():\n",
        "  str=input(\"Enter the string:\")\n",
        "  list_words=str.split()\n",
        "  print(length(list_words))\n",
        "\n",
        "main()"
      ]
    },
    {
      "cell_type": "code",
      "execution_count": 11,
      "id": "f492c7d4-6ad3-48ab-9b61-232be02aecee",
      "metadata": {
        "id": "f492c7d4-6ad3-48ab-9b61-232be02aecee",
        "colab": {
          "base_uri": "https://localhost:8080/"
        },
        "outputId": "a51c7935-4118-4d0b-fb61-4328631a7c84"
      },
      "outputs": [
        {
          "output_type": "stream",
          "name": "stdout",
          "text": [
            "Enter the string:THE king OF the JUNGLE is LION\n",
            "['THE', 'OF', 'JUNGLE', 'LION']\n"
          ]
        }
      ],
      "source": [
        "# Write a Python program to create a list of all uppercase letters in a string using list comprehension.\n",
        "def length(list_words):\n",
        "  list_new=[]\n",
        "  for i in list_words:\n",
        "    if i.isupper():\n",
        "      list_new.append(i)\n",
        "  return list_new\n",
        "\n",
        "def main():\n",
        "  str=input(\"Enter the string:\")\n",
        "  list_words=str.split()\n",
        "  print(length(list_words))\n",
        "\n",
        "main()"
      ]
    },
    {
      "cell_type": "code",
      "execution_count": 12,
      "id": "929a7f74-1762-4a2a-be23-bacf67ff4d8b",
      "metadata": {
        "id": "929a7f74-1762-4a2a-be23-bacf67ff4d8b",
        "colab": {
          "base_uri": "https://localhost:8080/"
        },
        "outputId": "532b0fa6-68d9-49a3-a6df-0f56662a5d8d"
      },
      "outputs": [
        {
          "output_type": "stream",
          "name": "stdout",
          "text": [
            "Enter the number of terms:5\n",
            "[0, 1, 1, 2, 3]\n"
          ]
        }
      ],
      "source": [
        "# Write a Python program to generate the first n Fibonacci numbers using list comprehension.\n",
        "def fibonacci(a,b,n):\n",
        "  if n==0:\n",
        "    return []\n",
        "  elif n==1:\n",
        "    return [a]\n",
        "  else:\n",
        "    return [a]+fibonacci(b,a+b,n-1)\n",
        "\n",
        "def main():\n",
        "  a=0\n",
        "  b=1\n",
        "  n=int(input(\"Enter the number of terms:\"))\n",
        "  print(fibonacci(a,b,n))\n",
        "\n",
        "main()"
      ]
    },
    {
      "cell_type": "code",
      "execution_count": 13,
      "id": "47188bbc-cf62-47bb-a14e-0582c8b5cdd9",
      "metadata": {
        "id": "47188bbc-cf62-47bb-a14e-0582c8b5cdd9",
        "colab": {
          "base_uri": "https://localhost:8080/"
        },
        "outputId": "fdd79ac3-af46-406c-c875-cf527be7b85e"
      },
      "outputs": [
        {
          "output_type": "stream",
          "name": "stdout",
          "text": [
            "{1: 1, 2: 4, 3: 9, 4: 16, 5: 25, 6: 36, 7: 49, 8: 64, 9: 81, 10: 100}\n"
          ]
        }
      ],
      "source": [
        "# Write a Python program to create a dictionary where keys are numbers and values are their squares using dictionary comprehension.\n",
        "def square(n):\n",
        "  return n*n\n",
        "\n",
        "def main():\n",
        "  list_num=[1,2,3,4,5,6,7,8,9,10]\n",
        "  dict_square={i:square(i) for i in list_num}\n",
        "  print(dict_square)\n",
        "\n",
        "main()"
      ]
    },
    {
      "cell_type": "code",
      "execution_count": 14,
      "id": "3c4637d3-aa85-4b4c-acf3-953c10818bcb",
      "metadata": {
        "id": "3c4637d3-aa85-4b4c-acf3-953c10818bcb",
        "colab": {
          "base_uri": "https://localhost:8080/"
        },
        "outputId": "e2da9245-324a-4673-fae0-725795bac2ae"
      },
      "outputs": [
        {
          "output_type": "stream",
          "name": "stdout",
          "text": [
            "{1: 'a', 2: 'b', 3: 'c', 4: 'd', 5: 'e'}\n"
          ]
        }
      ],
      "source": [
        "# Write a Python program to create a dictionary from two lists (one for keys and one for values) using dictionary comprehension.\n",
        "def main():\n",
        "  keys=[1,2,3,4,5]\n",
        "  values=['a','b','c','d','e']\n",
        "  dict_new={keys[i]:values[i] for i in range(len(keys))}\n",
        "  print(dict_new)\n",
        "\n",
        "main()"
      ]
    },
    {
      "cell_type": "code",
      "execution_count": 16,
      "id": "de817d6f-96e7-4346-839e-1ef0df539b6b",
      "metadata": {
        "id": "de817d6f-96e7-4346-839e-1ef0df539b6b",
        "colab": {
          "base_uri": "https://localhost:8080/"
        },
        "outputId": "2e785926-c40d-43e7-8fdb-5da9af655139"
      },
      "outputs": [
        {
          "output_type": "stream",
          "name": "stdout",
          "text": [
            "{1: 1, 2: 4, 3: 9, 4: 16, 5: 25}\n"
          ]
        }
      ],
      "source": [
        "# Write a Python program to create a dictionary of numbers from 1 to 5 and their cubes using dictionary comprehension.\n",
        "def cube(n):\n",
        "  return n*n*n\n",
        "\n",
        "def main():\n",
        "  list_num=[1,2,3,4,5]\n",
        "  dict_square={i:square(i) for i in list_num}\n",
        "  print(dict_square)\n",
        "\n",
        "main()"
      ]
    },
    {
      "cell_type": "code",
      "execution_count": null,
      "id": "33695301-057e-49a6-9f80-a2f4e3af60ed",
      "metadata": {
        "id": "33695301-057e-49a6-9f80-a2f4e3af60ed"
      },
      "outputs": [],
      "source": [
        "# Write a Python program to square each element of a list using the map() function.\n"
      ]
    },
    {
      "cell_type": "code",
      "execution_count": null,
      "id": "6d4d17f3-c40f-4944-8656-c6416b600361",
      "metadata": {
        "id": "6d4d17f3-c40f-4944-8656-c6416b600361"
      },
      "outputs": [],
      "source": [
        "# Write a Python program to filter all even numbers from a list using the filter() function."
      ]
    },
    {
      "cell_type": "code",
      "execution_count": null,
      "id": "6634ba1f-9f81-475e-b7c4-422d102afb75",
      "metadata": {
        "id": "6634ba1f-9f81-475e-b7c4-422d102afb75"
      },
      "outputs": [],
      "source": [
        "# Write a Python program to use a lambda function to check if a number is divisible by both 3 and 5."
      ]
    },
    {
      "cell_type": "code",
      "execution_count": null,
      "id": "0aac8430-5d77-439d-9a99-9598fadf989c",
      "metadata": {
        "id": "0aac8430-5d77-439d-9a99-9598fadf989c"
      },
      "outputs": [],
      "source": [
        "# Write a Python program to multiply all numbers in a list by 2 using a lambda function inside map()."
      ]
    },
    {
      "cell_type": "code",
      "execution_count": null,
      "id": "e4cd5ba8-c6ec-4f0d-8787-bf0a4b7a2e22",
      "metadata": {
        "id": "e4cd5ba8-c6ec-4f0d-8787-bf0a4b7a2e22"
      },
      "outputs": [],
      "source": [
        "# Write a Python program to remove all occurrences of a specific element from a list."
      ]
    },
    {
      "cell_type": "markdown",
      "id": "caba77c7-93db-4893-8f48-c7365ed5c585",
      "metadata": {
        "id": "caba77c7-93db-4893-8f48-c7365ed5c585"
      },
      "source": [
        "**Note:**\n",
        "- All assignments must follow [PEP 8 – Style Guide for Python Code](https://peps.python.org/pep-0008/) guidelines.\n",
        "- You can add multiple solutions for each question. Create a new code cell next to the question and add it. Shortcut for creating cell : `Alt + Enter`"
      ]
    }
  ],
  "metadata": {
    "colab": {
      "provenance": [],
      "include_colab_link": true
    },
    "kernelspec": {
      "display_name": "Python 3",
      "language": "python",
      "name": "python3"
    },
    "language_info": {
      "codemirror_mode": {
        "name": "ipython",
        "version": 3
      },
      "file_extension": ".py",
      "mimetype": "text/x-python",
      "name": "python",
      "nbconvert_exporter": "python",
      "pygments_lexer": "ipython3",
      "version": "3.12.4"
    }
  },
  "nbformat": 4,
  "nbformat_minor": 5
}